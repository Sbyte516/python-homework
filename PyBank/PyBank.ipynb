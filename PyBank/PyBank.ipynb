{
 "cells": [
  {
   "cell_type": "code",
   "execution_count": 38,
   "metadata": {},
   "outputs": [],
   "source": [
    "# Total Months: 86\n",
    "# Total: $38382578\n",
    "# Average  Change: $-2315.12\n",
    "# Greatest Increase in Profits: Feb-2012 ($1926159)  set min, max, average, total, count\n",
    "# Greatest Decrease in Profits: Sep-2013 ($-2196167)\n",
    "# Import the pathlib and csv library\n",
    "\n",
    "from pathlib import Path\n",
    "import csv"
   ]
  },
  {
   "cell_type": "code",
   "execution_count": 39,
   "metadata": {},
   "outputs": [],
   "source": [
    "csv_path = Path('budget_data.csv')"
   ]
  },
  {
   "cell_type": "code",
   "execution_count": 40,
   "metadata": {},
   "outputs": [],
   "source": [
    "# Intitialize variables\n",
    "records = [] # Elements container\n",
    "total_months = 0 \n",
    "total_revenue = 0\n",
    "greatest_increase = [\"\",0] \n",
    "greatest_decrease = [\"\",9999999999]\n",
    "prev_revenue = 0 \n",
    "month_of_change = []\n",
    "revenue_change_list = []\n",
    "Date_list = []\n",
    "revenue_changes = []"
   ]
  },
  {
   "cell_type": "code",
   "execution_count": 41,
   "metadata": {},
   "outputs": [],
   "source": [
    "with open(csv_path, 'r') as revenue_data:\n",
    "    csvreader = csv.reader(revenue_data)\n",
    "    csv_header = next(csvreader)\n",
    "       \n",
    "    \n",
    "    \n",
    "    for row in csvreader:\n",
    "        # Track the revenue change\n",
    "        current_revenue = int(row[1]) # Accounts for each integer in the index\n",
    "        Date_list = [row[0]] # Accounts for each date in the index\n",
    "        total_months += 1\n",
    "        total_revenue += current_revenue\n",
    "         \n",
    "        revenue_change = current_revenue - prev_revenue # Calculate revenue change\n",
    "        prev_revenue = current_revenue\n",
    "        revenue_change_list = revenue_change_list + [revenue_change]\n",
    "        month_of_change = month_of_change + [row[0]] # [] = [] + Date_list\n",
    "        \n",
    "        # Calculate the greatest increase\n",
    "        if (revenue_change > greatest_increase[1]):\n",
    "            greatest_increase[0] = row[0]\n",
    "            greatest_increase[1] = revenue_change\n",
    "\n",
    "        # Calculate the greatest decrease\n",
    "        if (revenue_change < greatest_decrease[1]):\n",
    "            greatest_decrease[0] = row[0]\n",
    "            greatest_decrease[1] = revenue_change\n",
    "            \n",
    "avg_change = (sum(revenue_change_list[1:])/len(revenue_change_list[1:]))\n",
    "avg_change = round(avg_change)\n",
    "            \n",
    "            "
   ]
  },
  {
   "cell_type": "code",
   "execution_count": 42,
   "metadata": {},
   "outputs": [
    {
     "data": {
      "text/plain": [
       "-2315"
      ]
     },
     "execution_count": 42,
     "metadata": {},
     "output_type": "execute_result"
    }
   ],
   "source": [
    "avg_change"
   ]
  },
  {
   "cell_type": "code",
   "execution_count": 43,
   "metadata": {},
   "outputs": [
    {
     "name": "stdout",
     "output_type": "stream",
     "text": [
      "Total Months: 86\n",
      "Total Revenue: $38382578\n",
      "Average Revenue Change: $-2315\n",
      "Greatest Increase in Revenue: Feb-2012 ($1926159)\n",
      "Greatest Decrease in Revenue: Sep-2013 ($-2196167)\n",
      "\n"
     ]
    }
   ],
   "source": [
    "\n",
    "print(f\"Total Months: {total_months}\\n\"\n",
    "    f\"Total Revenue: ${total_revenue}\\n\"\n",
    "    f\"Average Revenue Change: ${avg_change}\\n\"\n",
    "    f\"Greatest Increase in Revenue: {greatest_increase[0]} (${greatest_increase[1]})\\n\"\n",
    "    f\"Greatest Decrease in Revenue: {greatest_decrease[0]} (${greatest_decrease[1]})\\n\")"
   ]
  },
  {
   "cell_type": "code",
   "execution_count": 44,
   "metadata": {},
   "outputs": [
    {
     "name": "stdout",
     "output_type": "stream",
     "text": [
      "532869\n"
     ]
    }
   ],
   "source": [
    "print(revenue_change)"
   ]
  }
 ],
 "metadata": {
  "kernelspec": {
   "display_name": "Python 3",
   "language": "python",
   "name": "python3"
  },
  "language_info": {
   "codemirror_mode": {
    "name": "ipython",
    "version": 3
   },
   "file_extension": ".py",
   "mimetype": "text/x-python",
   "name": "python",
   "nbconvert_exporter": "python",
   "pygments_lexer": "ipython3",
   "version": "3.8.3"
  }
 },
 "nbformat": 4,
 "nbformat_minor": 4
}
